{
 "cells": [
  {
   "cell_type": "code",
   "execution_count": 1,
   "id": "fbdb7559",
   "metadata": {},
   "outputs": [
    {
     "name": "stderr",
     "output_type": "stream",
     "text": [
      "/home/giuto/Desktop/Uni/Magistrale/1° Anno/II° Semestre/Computer vision/Murgia-AI-Wildlife-Track/venv/lib/python3.13/site-packages/tqdm/auto.py:21: TqdmWarning: IProgress not found. Please update jupyter and ipywidgets. See https://ipywidgets.readthedocs.io/en/stable/user_install.html\n",
      "  from .autonotebook import tqdm as notebook_tqdm\n"
     ]
    }
   ],
   "source": [
    "import timm\n",
    "import torch\n",
    "from torchvision import transforms\n",
    "from sklearn.tree import DecisionTreeClassifier\n",
    "from sklearn.linear_model import LogisticRegression\n",
    "from sklearn.neighbors import KNeighborsClassifier\n",
    "from training_utils import *\n",
    "import warnings\n",
    "warnings.filterwarnings(\"ignore\")"
   ]
  },
  {
   "cell_type": "code",
   "execution_count": 2,
   "id": "c30296ee",
   "metadata": {},
   "outputs": [],
   "source": [
    "device = torch.device(\"cuda\" if torch.cuda.is_available() else \"cpu\")\n",
    "\n",
    "transform = transforms.Compose([\n",
    "    transforms.Resize((224, 224)),\n",
    "    transforms.ToTensor(),\n",
    "    transforms.Normalize(mean=(0.5, 0.5, 0.5), std=(0.5, 0.5, 0.5))\n",
    "])\n",
    "\n",
    "label_map = {\n",
    "    'badger': 0,\n",
    "    'bird': 1,\n",
    "    'boar': 2,\n",
    "    'butterfly': 3,\n",
    "    'cat': 4,\n",
    "    'dog': 5,\n",
    "    'fox': 6,\n",
    "    'lizard': 7,\n",
    "    'podolic_cow': 8,\n",
    "    'porcupine': 9,\n",
    "    'weasel': 10,\n",
    "    'wolf': 11,\n",
    "    'other': 12\n",
    "}"
   ]
  },
  {
   "cell_type": "code",
   "execution_count": 3,
   "id": "0c5cec81",
   "metadata": {},
   "outputs": [],
   "source": [
    "# Load ViT pre-trained model\n",
    "model_feat = timm.create_model('vit_base_patch16_224', pretrained=True)\n",
    "model_feat.reset_classifier(0)  # head removal for classification\n",
    "\n",
    "model_feat.eval()\n",
    "model_feat = model_feat.to(device)"
   ]
  },
  {
   "cell_type": "code",
   "execution_count": 4,
   "id": "3e717fff",
   "metadata": {},
   "outputs": [
    {
     "name": "stdout",
     "output_type": "stream",
     "text": [
      "---------------------LogisticRegression-------------------------\n",
      "Accuracy: 0.9603 ± 0.0083\n",
      "Precision: 0.9196 ± 0.1261\n",
      "Recall: 0.9009 ± 0.1705\n",
      "f1score: 0.8960 ± 0.1385\n",
      "Confusion matrix:\n",
      " 39.2±1.0    0.0±0.0    0.0±0.0    0.6±0.8    0.0±0.0    0.0±0.0    0.2±0.4  \n",
      "  0.0±0.0   27.4±1.0    0.0±0.0    0.4±0.5    0.0±0.0    0.2±0.4    0.2±0.4  \n",
      "  0.0±0.0    0.0±0.0    2.4±0.5    0.0±0.0    0.0±0.0    0.0±0.0    0.0±0.0  \n",
      "  0.4±0.8    0.6±0.8    0.0±0.0   10.6±1.0    0.0±0.0    0.6±0.5    0.0±0.0  \n",
      "  0.0±0.0    0.4±0.8    0.0±0.0    0.6±0.8   59.8±1.0    0.0±0.0    0.0±0.0  \n",
      "  0.0±0.0    0.0±0.0    0.0±0.0    0.4±0.5    0.0±0.0    3.4±0.5    0.4±0.8  \n",
      "  0.0±0.0    0.0±0.0    0.0±0.0    0.8±0.7    0.2±0.4    0.0±0.0    2.4±1.2  \n"
     ]
    }
   ],
   "source": [
    "clf = LogisticRegression(max_iter=1000)\n",
    "\n",
    "clf_results = cross_validation(\"data/fold_split\", clf, 5, device, transform, label_map, model_feat)\n",
    "\n",
    "print(\"---------------------LogisticRegression-------------------------\")\n",
    "print_cross_validation_results(clf_results)"
   ]
  },
  {
   "cell_type": "code",
   "execution_count": 5,
   "id": "72f56013",
   "metadata": {},
   "outputs": [
    {
     "name": "stdout",
     "output_type": "stream",
     "text": [
      "---------------------Decision Tree-------------------------\n",
      "Accuracy: 0.8400 ± 0.0182\n",
      "Precision: 0.6282 ± 0.3325\n",
      "Recall: 0.6570 ± 0.3268\n",
      "f1score: 0.6245 ± 0.3163\n",
      "Confusion matrix:\n",
      " 35.2±1.8    0.8±1.0    0.4±0.8    1.0±0.6    1.8±1.7    0.2±0.4    0.6±0.8  \n",
      "  1.2±0.7   24.0±1.4    0.2±0.4    1.0±1.1    0.8±0.7    0.6±0.8    0.4±0.5  \n",
      "  0.2±0.4    0.2±0.4    1.2±1.2    0.2±0.4    0.2±0.4    0.2±0.4    0.2±0.4  \n",
      "  0.2±0.4    0.8±0.4    0.2±0.4    7.4±1.6    1.2±1.5    1.6±1.0    0.8±0.7  \n",
      "  1.0±2.0    1.8±1.7    0.8±0.7    0.8±0.4   55.6±2.6    0.0±0.0    0.8±1.2  \n",
      "  0.0±0.0    0.2±0.4    0.2±0.4    0.2±0.4    0.4±0.5    3.2±0.4    0.0±0.0  \n",
      "  0.6±0.8    0.8±0.7    0.0±0.0    1.0±0.6    0.0±0.0    0.6±0.5    0.4±0.5  \n"
     ]
    }
   ],
   "source": [
    "decision_tree = DecisionTreeClassifier(random_state=42)\n",
    "decision_tree_results = cross_validation(\"data/fold_split\", decision_tree, 5, device, transform, label_map, model_feat)\n",
    "\n",
    "print(\"---------------------Decision Tree-------------------------\")\n",
    "print_cross_validation_results(decision_tree_results)"
   ]
  },
  {
   "cell_type": "code",
   "execution_count": 6,
   "id": "64346b4e",
   "metadata": {},
   "outputs": [
    {
     "name": "stdout",
     "output_type": "stream",
     "text": [
      "---------------------KNN k=1-------------------------\n",
      "Accuracy: 0.9550 ± 0.0128\n",
      "Precision: 0.9094 ± 0.1396\n",
      "Recall: 0.8914 ± 0.1519\n",
      "f1score: 0.8895 ± 0.1308\n",
      "Confusion matrix:\n",
      " 39.4±0.8    0.0±0.0    0.0±0.0    0.2±0.4    0.0±0.0    0.0±0.0    0.4±0.5  \n",
      "  0.0±0.0   27.6±1.0    0.0±0.0    0.2±0.4    0.0±0.0    0.2±0.4    0.2±0.4  \n",
      "  0.0±0.0    0.0±0.0    2.4±0.5    0.0±0.0    0.0±0.0    0.0±0.0    0.0±0.0  \n",
      "  0.4±0.5    0.6±0.8    0.0±0.0   10.4±0.8    0.0±0.0    0.6±0.8    0.2±0.4  \n",
      "  0.2±0.4    1.4±1.2    0.0±0.0    0.2±0.4   59.0±1.1    0.0±0.0    0.0±0.0  \n",
      "  0.0±0.0    0.0±0.0    0.0±0.0    0.6±0.5    0.0±0.0    3.2±0.4    0.4±0.8  \n",
      "  0.2±0.4    0.4±0.5    0.0±0.0    0.2±0.4    0.0±0.0    0.2±0.4    2.4±1.0  \n"
     ]
    }
   ],
   "source": [
    "knn  = KNeighborsClassifier(n_neighbors=1)\n",
    "knn_results = cross_validation(\"data/fold_split\", knn, 5, device, transform, label_map, model_feat)\n",
    "\n",
    "print(\"---------------------KNN k=1-------------------------\")\n",
    "print_cross_validation_results(knn_results)"
   ]
  }
 ],
 "metadata": {
  "kernelspec": {
   "display_name": "venv",
   "language": "python",
   "name": "python3"
  },
  "language_info": {
   "codemirror_mode": {
    "name": "ipython",
    "version": 3
   },
   "file_extension": ".py",
   "mimetype": "text/x-python",
   "name": "python",
   "nbconvert_exporter": "python",
   "pygments_lexer": "ipython3",
   "version": "3.13.3"
  }
 },
 "nbformat": 4,
 "nbformat_minor": 5
}
