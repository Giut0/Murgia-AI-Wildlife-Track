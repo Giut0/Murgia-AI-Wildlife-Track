{
 "cells": [
  {
   "cell_type": "code",
   "execution_count": null,
   "id": "fbdb7559",
   "metadata": {},
   "outputs": [
    {
     "name": "stderr",
     "output_type": "stream",
     "text": [
      "/home/giuto/Desktop/Uni/Magistrale/1° Anno/II° Semestre/Computer vision/Murgia-AI-Wildlife-Track/venv/lib/python3.13/site-packages/tqdm/auto.py:21: TqdmWarning: IProgress not found. Please update jupyter and ipywidgets. See https://ipywidgets.readthedocs.io/en/stable/user_install.html\n",
      "  from .autonotebook import tqdm as notebook_tqdm\n"
     ]
    }
   ],
   "source": [
    "import timm\n",
    "import torch\n",
    "from torch.utils.data import DataLoader \n",
    "import numpy as np\n",
    "from torchvision import transforms\n",
    "from sklearn.tree import DecisionTreeClassifier\n",
    "from sklearn.linear_model import LogisticRegression\n",
    "from sklearn.neighbors import KNeighborsClassifier\n",
    "from sklearn.metrics import accuracy_score, f1_score, precision_score, recall_score, confusion_matrix\n",
    "from training_utils import *\n",
    "import warnings\n",
    "warnings.filterwarnings(\"ignore\")"
   ]
  },
  {
   "cell_type": "code",
   "execution_count": null,
   "id": "056a6037",
   "metadata": {},
   "outputs": [],
   "source": [
    "def extract_features(model, dataloader, device):\n",
    "    features = []\n",
    "    labels = []\n",
    "\n",
    "    with torch.no_grad():\n",
    "        for images, targets in dataloader:\n",
    "            images = images.to(device)\n",
    "            out = model(images)\n",
    "            features.append(out.cpu().numpy())\n",
    "            labels.append(targets.numpy())\n",
    "\n",
    "    features = np.concatenate(features, axis=0)\n",
    "    labels = np.concatenate(labels, axis=0)\n",
    "    return features, labels"
   ]
  },
  {
   "cell_type": "code",
   "execution_count": null,
   "id": "c30296ee",
   "metadata": {},
   "outputs": [],
   "source": [
    "device = torch.device(\"cuda\" if torch.cuda.is_available() else \"cpu\")\n",
    "\n",
    "transform = transforms.Compose([\n",
    "    transforms.Resize((224, 224)),\n",
    "    transforms.ToTensor(),\n",
    "    transforms.Normalize(mean=(0.5, 0.5, 0.5), std=(0.5, 0.5, 0.5))\n",
    "])\n",
    "\n",
    "minority_augmentation = transforms.Compose([\n",
    "    transforms.RandomHorizontalFlip(),\n",
    "    transforms.RandomRotation(20),\n",
    "    transforms.ColorJitter(brightness=0.2, contrast=0.2, saturation=0.2),\n",
    "    transforms.RandomResizedCrop(224, scale=(0.8, 1.0)),\n",
    "    transforms.ToTensor()\n",
    "])\n",
    "label_map = {\n",
    "    'badger': 0,\n",
    "    'bird': 1,\n",
    "    'boar': 2,\n",
    "    'butterfly': 3,\n",
    "    'cat': 4,\n",
    "    'dog': 5,\n",
    "    'fox': 6,\n",
    "    'lizard': 7,\n",
    "    'podolic_cow': 8,\n",
    "    'porcupine': 9,\n",
    "    'weasel': 10,\n",
    "    'wolf': 11\n",
    "}"
   ]
  },
  {
   "cell_type": "code",
   "execution_count": null,
   "id": "86b99964",
   "metadata": {},
   "outputs": [],
   "source": [
    "# Dataset and DataLoader\n",
    "train_df = pd.read_csv(\"data/train.csv\")\n",
    "augmented_df = augment_minority_classes(train_df, \"data/labeled_img\", \"data/labeled_img_aug\", minority_augmentation, min_samples=50)\n",
    "train_ds = AnimalDataset(augmented_df, \"data/labeled_img/\", transform=transform, label_map=label_map, crop_bbox=True)\n",
    "train_loader = DataLoader(train_ds, batch_size=32, shuffle=True)\n",
    "\n",
    "val_ds = AnimalDataset(\"data/val.csv\", \"data/labeled_img/\", transform=transform, label_map=label_map, crop_bbox=True)\n",
    "val_loader = DataLoader(val_ds, batch_size=32, shuffle=False)\n",
    "\n",
    "test_ds = AnimalDataset(\"data/test.csv\", \"data/labeled_img/\", transform=transform, label_map=label_map, crop_bbox=False)\n",
    "test_loader = DataLoader(test_ds, batch_size=32, shuffle=False)"
   ]
  },
  {
   "cell_type": "code",
   "execution_count": null,
   "id": "0c5cec81",
   "metadata": {},
   "outputs": [],
   "source": [
    "# Load ViT pre-trained model\n",
    "model_feat = timm.create_model('vit_base_patch16_224', pretrained=True)\n",
    "model_feat.reset_classifier(0)  # head removal for classification\n",
    "\n",
    "model_feat.eval()\n",
    "model_feat = model_feat.to(device)\n",
    "\n",
    "train_loader = DataLoader(train_ds, batch_size=32, shuffle=False)\n",
    "val_loader = DataLoader(val_ds, batch_size=32, shuffle=False)"
   ]
  },
  {
   "cell_type": "code",
   "execution_count": 6,
   "id": "a789733b",
   "metadata": {},
   "outputs": [],
   "source": [
    "X_train, y_train = extract_features(model_feat, train_loader, device)\n",
    "X_val, y_val = extract_features(model_feat, val_loader, device)\n",
    "\n",
    "X_test, y_test = extract_features(model_feat, test_loader, device)"
   ]
  },
  {
   "cell_type": "code",
   "execution_count": null,
   "id": "3e717fff",
   "metadata": {},
   "outputs": [
    {
     "name": "stdout",
     "output_type": "stream",
     "text": [
      "---------- LogisticRegression ----------\n",
      "Validation Recall: 0.7206547\n",
      "Validation Precision: 0.7235740\n",
      "Validation F1 Score: 0.7108709\n",
      "Validation Accuracy: 0.8712871\n"
     ]
    }
   ],
   "source": [
    "clf = LogisticRegression(max_iter=1000)\n",
    "clf.fit(X_train, y_train)\n",
    "\n",
    "y_pred = clf.predict(X_val)\n",
    "y_test_pred = clf.predict(X_test)\n",
    "acc = accuracy_score(y_test, y_test_pred)\n",
    "f1 = f1_score(y_test, y_test_pred, average='macro')\n",
    "recall = recall_score(y_test, y_test_pred, average='macro')\n",
    "precision = precision_score(y_test, y_test_pred, average='macro')\n",
    "cm = confusion_matrix(y_test, y_test_pred)\n",
    "print(\"---------- LogisticRegression ----------\")\n",
    "print(f\"Validation Recall: {recall:.7f}\")\n",
    "print(f\"Validation Precision: {precision:.7f}\")\n",
    "print(f\"Validation F1 Score: {f1:.7f}\")\n",
    "print(f\"Validation Accuracy: {acc:.7f}\")"
   ]
  },
  {
   "cell_type": "code",
   "execution_count": 9,
   "id": "72f56013",
   "metadata": {},
   "outputs": [
    {
     "name": "stdout",
     "output_type": "stream",
     "text": [
      "---------- DecisionTreeClassifier ----------\n",
      "Validation Recall: 0.2496562\n",
      "Validation Precision: 0.3122971\n",
      "Validation F1 Score: 0.2661439\n",
      "Validation Accuracy: 0.6633663\n"
     ]
    }
   ],
   "source": [
    "decision_tree = DecisionTreeClassifier(random_state=42)\n",
    "decision_tree.fit(X_train, y_train)\n",
    "\n",
    "y_pred = decision_tree.predict(X_val)\n",
    "y_test_pred = decision_tree.predict(X_test)\n",
    "acc = accuracy_score(y_test, y_test_pred)\n",
    "f1 = f1_score(y_test, y_test_pred, average='macro')\n",
    "recall = recall_score(y_test, y_test_pred, average='macro')\n",
    "precision = precision_score(y_test, y_test_pred, average='macro')\n",
    "cm = confusion_matrix(y_test, y_test_pred)\n",
    "print(\"---------- DecisionTreeClassifier ----------\")\n",
    "print(f\"Validation Recall: {recall:.7f}\")\n",
    "print(f\"Validation Precision: {precision:.7f}\")\n",
    "print(f\"Validation F1 Score: {f1:.7f}\")\n",
    "print(f\"Validation Accuracy: {acc:.7f}\")"
   ]
  },
  {
   "cell_type": "code",
   "execution_count": null,
   "id": "64346b4e",
   "metadata": {},
   "outputs": [
    {
     "name": "stdout",
     "output_type": "stream",
     "text": [
      "---------- KNeighborsClassifier k = 1 ----------\n",
      "Validation Recall: 0.8258560\n",
      "Validation Precision: 0.8161111\n",
      "Validation F1 Score: 0.8115815\n",
      "Validation Accuracy: 0.8712871\n"
     ]
    }
   ],
   "source": [
    "knn  = KNeighborsClassifier(n_neighbors=1)\n",
    "knn.fit(X_train, y_train)\n",
    "c\n",
    "y_pred = knn.predict(X_val)\n",
    "y_test_pred = knn.predict(X_test)\n",
    "acc = accuracy_score(y_test, y_test_pred)\n",
    "f1 = f1_score(y_test, y_test_pred, average='macro')\n",
    "recall = recall_score(y_test, y_test_pred, average='macro')\n",
    "precision = precision_score(y_test, y_test_pred, average='macro')\n",
    "cm = confusion_matrix(y_test, y_test_pred)\n",
    "print(\"---------- KNeighborsClassifier k = 1 ----------\")\n",
    "print(f\"Validation Recall: {recall:.7f}\")\n",
    "print(f\"Validation Precision: {precision:.7f}\")\n",
    "print(f\"Validation F1 Score: {f1:.7f}\")\n",
    "print(f\"Validation Accuracy: {acc:.7f}\")"
   ]
  }
 ],
 "metadata": {
  "kernelspec": {
   "display_name": "venv",
   "language": "python",
   "name": "python3"
  },
  "language_info": {
   "codemirror_mode": {
    "name": "ipython",
    "version": 3
   },
   "file_extension": ".py",
   "mimetype": "text/x-python",
   "name": "python",
   "nbconvert_exporter": "python",
   "pygments_lexer": "ipython3",
   "version": "3.13.3"
  }
 },
 "nbformat": 4,
 "nbformat_minor": 5
}
