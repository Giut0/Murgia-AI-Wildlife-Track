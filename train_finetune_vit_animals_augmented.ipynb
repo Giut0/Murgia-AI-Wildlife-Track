{
 "cells": [
  {
   "cell_type": "code",
   "execution_count": 5,
   "id": "9a5bc7a9",
   "metadata": {},
   "outputs": [],
   "source": [
    "import torch\n",
    "from training_utils import *\n",
    "from torchvision import transforms"
   ]
  },
  {
   "cell_type": "code",
   "execution_count": 6,
   "id": "0a6687ac",
   "metadata": {},
   "outputs": [],
   "source": [
    "device = torch.device(\"cuda\" if torch.cuda.is_available() else \"cpu\")"
   ]
  },
  {
   "cell_type": "code",
   "execution_count": 7,
   "id": "421d6a8a",
   "metadata": {},
   "outputs": [],
   "source": [
    "transform = transforms.Compose([\n",
    "    transforms.Resize((224, 224)),\n",
    "    transforms.ToTensor(),\n",
    "    transforms.Normalize(mean=(0.5, 0.5, 0.5), std=(0.5, 0.5, 0.5))\n",
    "])\n",
    "label_map = {\n",
    "    'badger': 0,\n",
    "    'bird': 1,\n",
    "    'boar': 2,\n",
    "    'butterfly': 3,\n",
    "    'cat': 4,\n",
    "    'dog': 5,\n",
    "    'fox': 6,\n",
    "    'lizard': 7,\n",
    "    'podolic_cow': 8,\n",
    "    'porcupine': 9,\n",
    "    'weasel': 10,\n",
    "    'wolf': 11,\n",
    "    'other': 12\n",
    "}"
   ]
  },
  {
   "cell_type": "markdown",
   "id": "5e1a09fb",
   "metadata": {},
   "source": [
    "### Trining of Vit model with frozen backbone"
   ]
  },
  {
   "cell_type": "code",
   "execution_count": 4,
   "id": "da0ac2ce",
   "metadata": {},
   "outputs": [
    {
     "name": "stdout",
     "output_type": "stream",
     "text": [
      "Early stopping at epoch 3\n",
      "Early stopping at epoch 1\n",
      "Early stopping at epoch 1\n",
      "---------------------VitDet finetuned frozen backbone-------------------------\n",
      "Accuracy: 0.9636 ± 0.0165\n",
      "Precision: 0.9543 ± 0.0675\n",
      "Recall: 0.9579 ± 0.0747\n",
      "f1score: 0.9539 ± 0.0593\n",
      "Confusion matrix:\n",
      " 14.8±0.4    0.0±0.0    0.0±0.0    0.0±0.0    0.0±0.0    0.0±0.0    0.0±0.0    0.0±0.0    0.0±0.0    0.2±0.4    0.0±0.0    0.0±0.0  \n",
      "  0.0±0.0   39.4±0.5    0.0±0.0    0.0±0.0    0.0±0.0    0.0±0.0    0.2±0.4    0.4±0.5    0.0±0.0    0.0±0.0    0.0±0.0    0.0±0.0  \n",
      "  0.2±0.4    0.0±0.0   26.6±1.2    0.0±0.0    0.2±0.4    0.0±0.0    0.2±0.4    0.2±0.4    0.2±0.4    0.2±0.4    0.0±0.0    0.4±0.5  \n",
      "  0.0±0.0    0.0±0.0    0.0±0.0   14.4±1.2    0.0±0.0    0.0±0.0    0.0±0.0    0.6±1.2    0.0±0.0    0.0±0.0    0.0±0.0    0.0±0.0  \n",
      "  0.0±0.0    0.0±0.0    0.0±0.0    0.2±0.4   14.6±0.5    0.0±0.0    0.2±0.4    0.0±0.0    0.0±0.0    0.0±0.0    0.0±0.0    0.0±0.0  \n",
      "  0.0±0.0    0.0±0.0    0.0±0.0    0.0±0.0    0.0±0.0   15.0±0.0    0.0±0.0    0.0±0.0    0.0±0.0    0.0±0.0    0.0±0.0    0.0±0.0  \n",
      "  0.2±0.4    0.2±0.4    0.2±0.4    0.0±0.0    0.2±0.4    0.0±0.0   12.6±1.6    0.4±0.5    0.0±0.0    0.2±0.4    0.0±0.0    1.0±1.1  \n",
      "  0.0±0.0    0.0±0.0    0.0±0.0    1.0±2.0    0.0±0.0    0.0±0.0    0.0±0.0   14.0±2.0    0.0±0.0    0.0±0.0    0.0±0.0    0.0±0.0  \n",
      "  0.0±0.0    0.0±0.0    0.4±0.8    0.0±0.0    0.0±0.0    0.0±0.0    0.2±0.4    0.0±0.0   59.6±1.2    0.0±0.0    0.0±0.0    0.6±0.8  \n",
      "  0.2±0.4    0.0±0.0    0.0±0.0    0.0±0.0    0.0±0.0    0.0±0.0    0.0±0.0    0.0±0.0    0.0±0.0   14.4±0.8    0.0±0.0    0.4±0.5  \n",
      "  0.0±0.0    0.0±0.0    0.0±0.0    0.0±0.0    0.0±0.0    0.0±0.0    0.0±0.0    0.0±0.0    0.0±0.0    0.0±0.0   15.0±0.0    0.0±0.0  \n",
      "  0.2±0.4    0.0±0.0    0.0±0.0    0.0±0.0    0.0±0.0    0.0±0.0    0.2±0.4    0.0±0.0    0.0±0.0    0.6±0.8    0.0±0.0   14.0±0.9  \n"
     ]
    }
   ],
   "source": [
    "frozen_results = nn_cross_validation(\"data/augmented_fold_split\", 5, device, transform, label_map, num_epochs=5, frozen=True)\n",
    "\n",
    "print(\"---------------------VitDet finetuned frozen backbone-------------------------\")\n",
    "print_cross_validation_results(frozen_results)"
   ]
  },
  {
   "cell_type": "markdown",
   "id": "6e388d90",
   "metadata": {},
   "source": [
    "### Trining of Vit model updating all weight"
   ]
  },
  {
   "cell_type": "code",
   "execution_count": 8,
   "id": "63920860",
   "metadata": {},
   "outputs": [
    {
     "name": "stdout",
     "output_type": "stream",
     "text": [
      "Early stopping at epoch 3\n",
      "Early stopping at epoch 1\n",
      "Early stopping at epoch 1\n",
      "Early stopping at epoch 1\n",
      "---------------------VitDet finetuned-------------------------\n",
      "Accuracy: 0.4614 ± 0.1222\n",
      "Precision: 0.2852 ± 0.3199\n",
      "Recall: 0.3490 ± 0.3897\n",
      "f1score: 0.2811 ± 0.3043\n",
      "Confusion matrix:\n",
      "  8.0±6.8    0.0±0.0    0.0±0.0    6.0±7.3    0.0±0.0    0.0±0.0    0.4±0.8    0.0±0.0    0.0±0.0    0.0±0.0    0.6±1.2    0.0±0.0  \n",
      "  0.4±0.5   35.4±2.6    0.0±0.0    0.4±0.5    0.2±0.4    0.0±0.0    0.4±0.8    0.8±1.0    2.0±2.8    0.2±0.4    0.2±0.4    0.0±0.0  \n",
      "  1.8±2.4    4.6±2.6    2.8±5.6    2.0±2.3    0.0±0.0    0.4±0.8    3.6±7.2    0.0±0.0   11.6±6.7    0.2±0.4    1.2±1.2    0.0±0.0  \n",
      "  3.0±6.0    0.0±0.0    0.0±0.0   10.2±5.4    0.0±0.0    0.0±0.0    0.0±0.0    1.2±1.2    0.0±0.0    0.6±1.2    0.0±0.0    0.0±0.0  \n",
      "  1.0±2.0    7.8±4.1    0.0±0.0    1.0±1.3    1.4±2.8    0.8±1.6    0.4±0.8    1.4±2.0    1.0±0.9    0.0±0.0    0.2±0.4    0.0±0.0  \n",
      "  0.0±0.0    7.6±6.3    0.0±0.0    0.0±0.0    0.2±0.4    3.0±4.0    0.0±0.0    0.2±0.4    3.4±2.4    0.4±0.5    0.0±0.0    0.2±0.4  \n",
      "  0.6±0.5    5.0±1.4    0.0±0.0    0.4±0.5    0.2±0.4    0.2±0.4    1.0±1.5    0.0±0.0    6.8±1.9    0.4±0.5    0.4±0.5    0.0±0.0  \n",
      "  1.6±2.7    5.2±2.3    0.0±0.0    3.2±2.8    0.2±0.4    0.4±0.8    0.2±0.4    2.8±3.9    0.2±0.4    1.0±1.3    0.2±0.4    0.0±0.0  \n",
      "  0.2±0.4   10.0±6.8    1.0±2.0    0.4±0.5    0.2±0.4    0.2±0.4    1.6±3.2    0.0±0.0   47.2±4.3    0.0±0.0    0.0±0.0    0.0±0.0  \n",
      "  3.2±3.3    4.0±3.9    0.2±0.4    3.0±3.7    0.0±0.0    0.4±0.8    0.8±1.6    0.0±0.0    1.0±0.9    2.2±1.9    0.2±0.4    0.0±0.0  \n",
      "  1.6±3.2    3.4±4.0    0.0±0.0    2.4±3.0    0.0±0.0    0.0±0.0    0.0±0.0    0.0±0.0    0.4±0.5    0.8±1.6    6.4±7.1    0.0±0.0  \n",
      "  2.4±2.3    2.8±2.6    0.4±0.5    1.6±2.3    0.0±0.0    0.6±0.8    0.2±0.4    0.8±1.2    4.0±1.5    0.2±0.4    0.6±0.8    1.4±2.8  \n"
     ]
    }
   ],
   "source": [
    "results = nn_cross_validation(\"data/augmented_fold_split\", 5, device, transform, label_map, num_epochs=5, frozen=False)\n",
    "\n",
    "print(\"---------------------VitDet finetuned-------------------------\")\n",
    "print_cross_validation_results(results)"
   ]
  }
 ],
 "metadata": {
  "kernelspec": {
   "display_name": "venv",
   "language": "python",
   "name": "python3"
  },
  "language_info": {
   "codemirror_mode": {
    "name": "ipython",
    "version": 3
   },
   "file_extension": ".py",
   "mimetype": "text/x-python",
   "name": "python",
   "nbconvert_exporter": "python",
   "pygments_lexer": "ipython3",
   "version": "3.13.3"
  }
 },
 "nbformat": 4,
 "nbformat_minor": 5
}
