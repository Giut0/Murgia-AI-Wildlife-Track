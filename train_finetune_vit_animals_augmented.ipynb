{
 "cells": [
  {
   "cell_type": "code",
   "execution_count": 1,
   "id": "9a5bc7a9",
   "metadata": {},
   "outputs": [
    {
     "name": "stderr",
     "output_type": "stream",
     "text": [
      "/home/giuto/Desktop/Uni/Magistrale/1° Anno/II° Semestre/Computer vision/Murgia-AI-Wildlife-Track/venv/lib/python3.13/site-packages/tqdm/auto.py:21: TqdmWarning: IProgress not found. Please update jupyter and ipywidgets. See https://ipywidgets.readthedocs.io/en/stable/user_install.html\n",
      "  from .autonotebook import tqdm as notebook_tqdm\n"
     ]
    }
   ],
   "source": [
    "import torch\n",
    "from training_utils import *\n",
    "from torchvision import transforms"
   ]
  },
  {
   "cell_type": "code",
   "execution_count": 2,
   "id": "0a6687ac",
   "metadata": {},
   "outputs": [],
   "source": [
    "device = torch.device(\"cuda\" if torch.cuda.is_available() else \"cpu\")"
   ]
  },
  {
   "cell_type": "code",
   "execution_count": 3,
   "id": "421d6a8a",
   "metadata": {},
   "outputs": [],
   "source": [
    "transform = transforms.Compose([\n",
    "    transforms.Resize((224, 224)),\n",
    "    transforms.ToTensor(),\n",
    "    transforms.Normalize(mean=(0.5, 0.5, 0.5), std=(0.5, 0.5, 0.5))\n",
    "])\n",
    "label_map = {\n",
    "    'badger': 0,\n",
    "    'bird': 1,\n",
    "    'boar': 2,\n",
    "    'butterfly': 3,\n",
    "    'cat': 4,\n",
    "    'dog': 5,\n",
    "    'fox': 6,\n",
    "    'lizard': 7,\n",
    "    'podolic_cow': 8,\n",
    "    'porcupine': 9,\n",
    "    'weasel': 10,\n",
    "    'wolf': 11,\n",
    "    'other': 12\n",
    "}"
   ]
  },
  {
   "cell_type": "markdown",
   "id": "5e1a09fb",
   "metadata": {},
   "source": [
    "### Trining of Vit model with frozen backbone"
   ]
  },
  {
   "cell_type": "code",
   "execution_count": null,
   "id": "da0ac2ce",
   "metadata": {},
   "outputs": [
    {
     "name": "stdout",
     "output_type": "stream",
     "text": [
      "Early stopping at epoch 7\n",
      "Early stopping at epoch 1\n",
      "Early stopping at epoch 1\n",
      "Early stopping at epoch 1\n",
      "Early stopping at epoch 1\n",
      "---------------------VitDet finetuned frozen backbone-------------------------\n",
      "Accuracy: 0.9252 ± 0.0281\n",
      "Precision: 0.9077 ± 0.1268\n",
      "Recall: 0.8913 ± 0.1506\n",
      "f1score: 0.8881 ± 0.1192\n",
      "Confusion matrix:\n",
      "  8.2±2.2    0.0±0.0    0.0±0.0    0.0±0.0    0.0±0.0    0.0±0.0    0.0±0.0    0.0±0.0    0.0±0.0    1.8±2.2    0.0±0.0    0.0±0.0  \n",
      "  0.0±0.0   38.8±1.2    0.0±0.0    0.4±0.5    0.0±0.0    0.0±0.0    0.0±0.0    0.8±1.2    0.0±0.0    0.0±0.0    0.0±0.0    0.0±0.0  \n",
      "  0.2±0.4    0.0±0.0   19.4±1.0    0.0±0.0    0.0±0.0    0.0±0.0    0.0±0.0    0.2±0.4    0.0±0.0    0.2±0.4    0.0±0.0    0.2±0.4  \n",
      "  0.0±0.0    0.0±0.0    0.0±0.0    9.4±0.8    0.0±0.0    0.0±0.0    0.0±0.0    0.6±0.8    0.0±0.0    0.0±0.0    0.0±0.0    0.0±0.0  \n",
      "  0.0±0.0    0.0±0.0    0.6±0.8    0.0±0.0    9.0±1.1    0.0±0.0    0.2±0.4    0.2±0.4    0.0±0.0    0.0±0.0    0.0±0.0    0.0±0.0  \n",
      "  0.0±0.0    0.0±0.0    0.0±0.0    0.0±0.0    0.0±0.0    9.8±0.4    0.0±0.0    0.2±0.4    0.0±0.0    0.0±0.0    0.0±0.0    0.0±0.0  \n",
      "  0.0±0.0    0.4±0.8    0.4±0.8    0.0±0.0    0.0±0.0    0.2±0.4    7.4±1.0    0.0±0.0    0.4±0.5    0.8±0.7    0.0±0.0    0.6±1.2  \n",
      "  0.0±0.0    0.0±0.0    0.0±0.0    1.2±1.0    0.0±0.0    0.0±0.0    0.0±0.0    8.8±1.0    0.0±0.0    0.0±0.0    0.0±0.0    0.0±0.0  \n",
      "  0.0±0.0    0.0±0.0    0.6±0.5    0.2±0.4    0.0±0.0    0.0±0.0    0.0±0.0    0.0±0.0   54.4±1.0    0.2±0.4    0.0±0.0    0.2±0.4  \n",
      "  1.2±1.5    0.0±0.0    0.0±0.0    0.0±0.0    0.0±0.0    0.0±0.0    0.0±0.0    0.0±0.0    0.0±0.0    8.4±1.4    0.0±0.0    0.4±0.8  \n",
      "  0.0±0.0    0.0±0.0    0.0±0.0    0.0±0.0    0.0±0.0    0.0±0.0    0.0±0.0    0.0±0.0    0.0±0.0    0.0±0.0   10.0±0.0    0.0±0.0  \n",
      "  0.2±0.4    0.0±0.0    0.0±0.0    0.0±0.0    0.0±0.0    0.4±0.5    1.0±0.9    0.0±0.0    0.6±0.8    0.8±1.2    0.0±0.0    7.0±2.2  \n"
     ]
    }
   ],
   "source": [
    "frozen_results = nn_cross_validation(\"data/augmented_fold_split\", 5, device, transform, label_map, num_epochs=5, frozen=True)\n",
    "\n",
    "print(\"---------------------VitDet finetuned frozen backbone-------------------------\")\n",
    "print_cross_validation_results(frozen_results)"
   ]
  },
  {
   "cell_type": "markdown",
   "id": "6e388d90",
   "metadata": {},
   "source": [
    "### Trining of Vit model updating all weight"
   ]
  },
  {
   "cell_type": "code",
   "execution_count": null,
   "id": "63920860",
   "metadata": {},
   "outputs": [
    {
     "name": "stdout",
     "output_type": "stream",
     "text": [
      "Early stopping at epoch 2\n",
      "Early stopping at epoch 1\n",
      "Early stopping at epoch 1\n",
      "Early stopping at epoch 1\n",
      "---------------------VitDet finetuned-------------------------\n",
      "Accuracy: 0.4233 ± 0.1525\n",
      "Precision: 0.2304 ± 0.3120\n",
      "Recall: 0.2642 ± 0.3588\n",
      "f1score: 0.2239 ± 0.3006\n",
      "Confusion matrix:\n",
      "  0.8±1.6    0.0±0.0    3.4±4.3    2.6±3.9    0.4±0.8    0.0±0.0    0.0±0.0    0.0±0.0    0.0±0.0    1.6±3.2    0.0±0.0    1.2±2.4  \n",
      "  0.0±0.0   21.6±16.2    1.4±1.2    0.2±0.4    0.8±1.2    0.2±0.4    0.0±0.0    0.2±0.4   15.6±16.0    0.0±0.0    0.0±0.0    0.0±0.0  \n",
      "  0.0±0.0    4.0±3.4    2.8±2.4    1.6±2.1    1.2±2.4    0.2±0.4    0.2±0.4    0.2±0.4    8.4±3.8    1.0±2.0    0.0±0.0    0.6±1.2  \n",
      "  0.0±0.0    0.2±0.4    2.4±3.9    5.4±4.5    0.2±0.4    0.0±0.0    0.0±0.0    0.0±0.0    0.0±0.0    1.8±3.6    0.0±0.0    0.0±0.0  \n",
      "  0.0±0.0    2.4±3.0    1.4±1.9    0.4±0.8    1.0±1.5    0.0±0.0    0.2±0.4    0.6±1.2    3.8±3.9    0.2±0.4    0.0±0.0    0.0±0.0  \n",
      "  0.0±0.0    2.6±2.9    0.2±0.4    0.0±0.0    0.4±0.8    1.6±2.7    0.0±0.0    0.0±0.0    5.0±3.6    0.0±0.0    0.0±0.0    0.2±0.4  \n",
      "  0.2±0.4    1.4±1.5    0.8±0.7    0.2±0.4    0.8±1.2    0.0±0.0    0.6±0.8    0.4±0.8    4.8±2.6    0.6±1.2    0.0±0.0    0.4±0.8  \n",
      "  0.0±0.0    2.8±3.2    0.4±0.8    2.4±2.1    0.2±0.4    0.0±0.0    0.0±0.0    1.4±2.8    1.8±2.4    1.0±2.0    0.0±0.0    0.0±0.0  \n",
      "  0.0±0.0    6.4±5.2    1.8±1.3    0.0±0.0    0.2±0.4    0.2±0.4    0.4±0.5    0.2±0.4   46.2±5.7    0.0±0.0    0.0±0.0    0.2±0.4  \n",
      "  0.2±0.4    0.8±0.7    2.6±2.9    1.0±1.5    1.0±2.0    0.0±0.0    0.2±0.4    0.0±0.0    1.6±1.4    1.8±2.4    0.2±0.4    0.6±1.2  \n",
      "  0.0±0.0    0.8±1.6    4.0±4.5    0.6±1.2    1.4±2.8    0.0±0.0    0.2±0.4    0.0±0.0    0.0±0.0    0.6±1.2    2.4±3.9    0.0±0.0  \n",
      "  0.4±0.8    0.8±0.7    2.0±2.1    1.2±1.9    1.2±2.4    0.0±0.0    0.0±0.0    0.0±0.0    2.6±2.1    0.2±0.4    0.0±0.0    1.6±3.2  \n"
     ]
    }
   ],
   "source": [
    "results = nn_cross_validation(\"data/augmented_fold_split\", 5, device, transform, label_map, num_epochs=5, frozen=False)\n",
    "\n",
    "print(\"---------------------VitDet finetuned-------------------------\")\n",
    "print_cross_validation_results(results)"
   ]
  }
 ],
 "metadata": {
  "kernelspec": {
   "display_name": "venv",
   "language": "python",
   "name": "python3"
  },
  "language_info": {
   "codemirror_mode": {
    "name": "ipython",
    "version": 3
   },
   "file_extension": ".py",
   "mimetype": "text/x-python",
   "name": "python",
   "nbconvert_exporter": "python",
   "pygments_lexer": "ipython3",
   "version": "3.13.3"
  }
 },
 "nbformat": 4,
 "nbformat_minor": 5
}
