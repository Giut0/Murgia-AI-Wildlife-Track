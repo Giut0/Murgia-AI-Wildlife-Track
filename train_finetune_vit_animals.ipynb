{
 "cells": [
  {
   "cell_type": "code",
   "execution_count": null,
   "id": "9a5bc7a9",
   "metadata": {},
   "outputs": [
    {
     "name": "stderr",
     "output_type": "stream",
     "text": [
      "/home/giuto/Desktop/Uni/Magistrale/1° Anno/II° Semestre/Computer vision/Murgia-AI-Wildlife-Track/venv/lib/python3.13/site-packages/tqdm/auto.py:21: TqdmWarning: IProgress not found. Please update jupyter and ipywidgets. See https://ipywidgets.readthedocs.io/en/stable/user_install.html\n",
      "  from .autonotebook import tqdm as notebook_tqdm\n"
     ]
    }
   ],
   "source": [
    "import torch\n",
    "import torch.nn as nn\n",
    "from torch.utils.data import DataLoader \n",
    "import timm\n",
    "from torchvision import transforms\n",
    "import os\n",
    "from PIL import Image\n",
    "import pandas as pd\n",
    "from training_utils import *\n",
    "from sklearn.metrics import accuracy_score, roc_auc_score, fbeta_score, precision_score, recall_score, confusion_matrix"
   ]
  },
  {
   "cell_type": "code",
   "execution_count": 3,
   "id": "e57e5b8c",
   "metadata": {},
   "outputs": [],
   "source": [
    "from sklearn.metrics import classification_report, confusion_matrix\n",
    "import numpy as np\n",
    "\n",
    "def evaluate_model(model, dataloader, device, label_map):\n",
    "    model.eval()\n",
    "    all_preds = []\n",
    "    all_labels = []\n",
    "\n",
    "    with torch.no_grad():\n",
    "        for images, labels in dataloader:\n",
    "            images = images.to(device)\n",
    "            labels = labels.to(device)\n",
    "            outputs = model(images)\n",
    "            _, preds = torch.max(outputs, 1)\n",
    "            all_preds.extend(preds.cpu().numpy())\n",
    "            all_labels.extend(labels.cpu().numpy())\n",
    "\n",
    "    # Ricava classi presenti effettivamente nel test\n",
    "    unique_labels = sorted(list(set(all_labels + all_preds)))\n",
    "    inv_label_map = {v: k for k, v in label_map.items()}\n",
    "    class_names = [inv_label_map[i] for i in unique_labels]\n",
    "\n",
    "    print(\"\\nClassification Report:\")\n",
    "    print(classification_report(all_labels, all_preds, labels=unique_labels, target_names=class_names))\n",
    "\n",
    "    print(\"\\nConfusion Matrix:\")\n",
    "    cm = confusion_matrix(all_labels, all_preds, labels=unique_labels)\n",
    "    print(cm)"
   ]
  },
  {
   "cell_type": "code",
   "execution_count": 4,
   "id": "0a6687ac",
   "metadata": {},
   "outputs": [],
   "source": [
    "device = torch.device(\"cuda\" if torch.cuda.is_available() else \"cpu\")"
   ]
  },
  {
   "cell_type": "code",
   "execution_count": 5,
   "id": "421d6a8a",
   "metadata": {},
   "outputs": [],
   "source": [
    "# Trasformazioni immagine per ViT\n",
    "transform = transforms.Compose([\n",
    "    transforms.Resize((224, 224)),\n",
    "    transforms.ToTensor(),\n",
    "    transforms.Normalize(mean=(0.5, 0.5, 0.5), std=(0.5, 0.5, 0.5))\n",
    "])\n",
    "label_map = {\n",
    "    'badger': 0,\n",
    "    'bird': 1,\n",
    "    'boar': 2,\n",
    "    'butterfly': 3,\n",
    "    'cat': 4,\n",
    "    'dog': 5,\n",
    "    'fox': 6,\n",
    "    'lizard': 7,\n",
    "    'podolic_cow': 8,\n",
    "    'porcupine': 9,\n",
    "    'weasel': 10,\n",
    "    'wolf': 11\n",
    "}"
   ]
  },
  {
   "cell_type": "code",
   "execution_count": 6,
   "id": "461a2ebf",
   "metadata": {},
   "outputs": [],
   "source": [
    "# Dataset e DataLoader\n",
    "train_ds = AnimalDataset(\"data/train.csv\", \"data/labeled_img/\", transform=transform, label_map=label_map, crop_bbox=True)\n",
    "train_loader = DataLoader(train_ds, batch_size=32, shuffle=True)\n",
    "\n",
    "val_ds = AnimalDataset(\"data/val.csv\", \"data/labeled_img/\", transform=transform, label_map=label_map, crop_bbox=True)\n",
    "val_loader = DataLoader(val_ds, batch_size=32, shuffle=False)\n",
    "\n",
    "test_ds = AnimalDataset(\"data/test.csv\", \"data/labeled_img/\", transform=transform, label_map=label_map, crop_bbox=True)\n",
    "test_loader = DataLoader(test_ds, batch_size=32, shuffle=False)"
   ]
  },
  {
   "cell_type": "markdown",
   "id": "5e1a09fb",
   "metadata": {},
   "source": [
    "### Trining of Vit model with frozen backbone"
   ]
  },
  {
   "cell_type": "code",
   "execution_count": 7,
   "id": "0965633d",
   "metadata": {},
   "outputs": [],
   "source": [
    "num_classes = len(train_ds.label_map)\n",
    "\n",
    "# --- Backbone congelato (solo testa allenata) ---\n",
    "model_frozen = timm.create_model('vit_base_patch16_224', pretrained=True)\n",
    "model_frozen.head = nn.Linear(model_frozen.head.in_features, num_classes)  # sostituisci testa\n",
    "\n",
    "# Congela tutti i parametri\n",
    "for param in model_frozen.parameters():\n",
    "    param.requires_grad = False\n",
    "# Sblocca solo la testa\n",
    "for param in model_frozen.head.parameters():\n",
    "    param.requires_grad = True\n",
    "\n",
    "model_frozen = model_frozen.to(device)\n",
    "\n",
    "optimizer_frozen = torch.optim.Adam(filter(lambda p: p.requires_grad, model_frozen.parameters()), lr=1e-3)\n",
    "criterion_frozen = nn.CrossEntropyLoss()"
   ]
  },
  {
   "cell_type": "code",
   "execution_count": null,
   "id": "bcaa0d27",
   "metadata": {},
   "outputs": [
    {
     "name": "stdout",
     "output_type": "stream",
     "text": [
      "Epoch 1/5 - Train loss: 0.8941, acc: 0.7889 | Val loss: 0.4864, acc: 0.8614\n",
      "Epoch 2/5 - Train loss: 0.2351, acc: 0.9254 | Val loss: 0.3619, acc: 0.8911\n",
      "Epoch 3/5 - Train loss: 0.1319, acc: 0.9595 | Val loss: 0.3122, acc: 0.8713\n",
      "Epoch 4/5 - Train loss: 0.0823, acc: 0.9808 | Val loss: 0.2990, acc: 0.9010\n",
      "Epoch 5/5 - Train loss: 0.0526, acc: 0.9936 | Val loss: 0.2919, acc: 0.9109\n",
      "\n",
      "🧪 Test finale → Loss: 0.0746 | Accuracy: 0.9901\n"
     ]
    }
   ],
   "source": [
    "# Loop di training completo\n",
    "num_epochs = 5\n",
    "for epoch in range(num_epochs):\n",
    "    train_loss, train_acc = train_epoch(model_frozen, train_loader, optimizer_frozen, criterion_frozen, device)\n",
    "    val_loss, val_acc = eval_model(model_frozen, val_loader, criterion_frozen, device)\n",
    "    print(f\"Epoch {epoch+1}/{num_epochs} - Train loss: {train_loss:.4f}, acc: {train_acc:.4f} | Val loss: {val_loss:.4f}, acc: {val_acc:.4f}\")\n",
    "\n",
    "test_loss, test_acc = eval_model(model_frozen, test_loader, criterion_frozen, device)\n",
    "print(f\"\\n🧪 Test finale → Loss: {test_loss:.4f} | Accuracy: {test_acc:.4f}\")\n",
    "\n",
    "# 📈 Metriche complete sul test set\n",
    "print(\"\\n📋 Metriche di classificazione dettagliate:\")\n",
    "evaluate_model(model_frozen, test_loader, device, train_ds.label_map)"
   ]
  },
  {
   "cell_type": "markdown",
   "id": "6e388d90",
   "metadata": {},
   "source": [
    "### Trining of Vit model updating all weight"
   ]
  },
  {
   "cell_type": "code",
   "execution_count": null,
   "id": "63920860",
   "metadata": {},
   "outputs": [],
   "source": [
    "# --- Fine tuning completo (tutti i parametri allenabili) ---\n",
    "model_finetune = timm.create_model('vit_base_patch16_224', pretrained=True)\n",
    "model_finetune.head = nn.Linear(model_finetune.head.in_features, num_classes)\n",
    "\n",
    "# Sblocca tutti i parametri\n",
    "for param in model_finetune.parameters():\n",
    "    param.requires_grad = True\n",
    "\n",
    "model_finetune = model_finetune.to(device)\n",
    "\n",
    "optimizer_finetune = torch.optim.Adam(model_finetune.parameters(), lr=1e-4)\n",
    "criterion_finetune = nn.CrossEntropyLoss()"
   ]
  },
  {
   "cell_type": "code",
   "execution_count": null,
   "id": "9ba682c5",
   "metadata": {},
   "outputs": [
    {
     "name": "stdout",
     "output_type": "stream",
     "text": [
      "Epoch 1/5 - Train loss: 0.7229, acc: 0.8017 | Val loss: 0.5959, acc: 0.8218\n",
      "Epoch 2/5 - Train loss: 0.3142, acc: 0.8998 | Val loss: 0.5023, acc: 0.8317\n",
      "Epoch 3/5 - Train loss: 0.1557, acc: 0.9552 | Val loss: 1.4990, acc: 0.7525\n",
      "Epoch 4/5 - Train loss: 0.1310, acc: 0.9510 | Val loss: 0.5365, acc: 0.8911\n",
      "Epoch 5/5 - Train loss: 0.0804, acc: 0.9723 | Val loss: 0.6674, acc: 0.8416\n",
      "\n",
      "🧪 Test finale → Loss: 0.1693 | Accuracy: 0.9604\n",
      "\n",
      "📋 Metriche di classificazione dettagliate:\n",
      "\n",
      "Classification Report:\n",
      "              precision    recall  f1-score   support\n",
      "\n",
      "        bird       1.00      1.00      1.00        31\n",
      "        boar       0.94      0.94      0.94        17\n",
      "         cat       1.00      1.00      1.00         1\n",
      "         fox       0.75      1.00      0.86         6\n",
      " podolic_cow       1.00      0.93      0.97        46\n",
      "        wolf       0.00      0.00      0.00         0\n",
      "\n",
      "    accuracy                           0.96       101\n",
      "   macro avg       0.78      0.81      0.79       101\n",
      "weighted avg       0.98      0.96      0.97       101\n",
      "\n",
      "\n",
      "Confusion Matrix:\n",
      "[[31  0  0  0  0  0]\n",
      " [ 0 16  0  1  0  0]\n",
      " [ 0  0  1  0  0  0]\n",
      " [ 0  0  0  6  0  0]\n",
      " [ 0  1  0  1 43  1]\n",
      " [ 0  0  0  0  0  0]]\n"
     ]
    },
    {
     "name": "stderr",
     "output_type": "stream",
     "text": [
      "/home/giuto/Desktop/Uni/Magistrale/1° Anno/II° Semestre/Computer vision/Murgia-AI-Wildlife-Track/venv/lib/python3.13/site-packages/sklearn/metrics/_classification.py:1565: UndefinedMetricWarning: Recall is ill-defined and being set to 0.0 in labels with no true samples. Use `zero_division` parameter to control this behavior.\n",
      "  _warn_prf(average, modifier, f\"{metric.capitalize()} is\", len(result))\n",
      "/home/giuto/Desktop/Uni/Magistrale/1° Anno/II° Semestre/Computer vision/Murgia-AI-Wildlife-Track/venv/lib/python3.13/site-packages/sklearn/metrics/_classification.py:1565: UndefinedMetricWarning: Recall is ill-defined and being set to 0.0 in labels with no true samples. Use `zero_division` parameter to control this behavior.\n",
      "  _warn_prf(average, modifier, f\"{metric.capitalize()} is\", len(result))\n",
      "/home/giuto/Desktop/Uni/Magistrale/1° Anno/II° Semestre/Computer vision/Murgia-AI-Wildlife-Track/venv/lib/python3.13/site-packages/sklearn/metrics/_classification.py:1565: UndefinedMetricWarning: Recall is ill-defined and being set to 0.0 in labels with no true samples. Use `zero_division` parameter to control this behavior.\n",
      "  _warn_prf(average, modifier, f\"{metric.capitalize()} is\", len(result))\n"
     ]
    }
   ],
   "source": [
    "# Loop di training completo\n",
    "num_epochs = 5\n",
    "for epoch in range(num_epochs):\n",
    "    train_loss, train_acc = train_epoch(model_finetune, train_loader, optimizer_finetune, criterion_finetune, device)\n",
    "    val_loss, val_acc = eval_model(model_finetune, val_loader, criterion_finetune, device)\n",
    "    print(f\"Epoch {epoch+1}/{num_epochs} - Train loss: {train_loss:.4f}, acc: {train_acc:.4f} | Val loss: {val_loss:.4f}, acc: {val_acc:.4f}\")\n",
    "\n",
    "# 📊 Valutazione finale sul test set\n",
    "test_loss, test_acc = eval_model(model_finetune, test_loader, criterion_finetune, device)\n",
    "print(f\"\\n🧪 Test finale → Loss: {test_loss:.4f} | Accuracy: {test_acc:.4f}\")\n",
    "\n",
    "# 📈 Metriche complete sul test set\n",
    "print(\"\\n📋 Metriche di classificazione dettagliate:\")\n",
    "evaluate_model(model_finetune, test_loader, device, train_ds.label_map)"
   ]
  }
 ],
 "metadata": {
  "kernelspec": {
   "display_name": "venv",
   "language": "python",
   "name": "python3"
  },
  "language_info": {
   "codemirror_mode": {
    "name": "ipython",
    "version": 3
   },
   "file_extension": ".py",
   "mimetype": "text/x-python",
   "name": "python",
   "nbconvert_exporter": "python",
   "pygments_lexer": "ipython3",
   "version": "3.13.3"
  }
 },
 "nbformat": 4,
 "nbformat_minor": 5
}
